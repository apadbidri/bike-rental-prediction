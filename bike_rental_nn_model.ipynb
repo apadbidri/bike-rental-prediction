{
 "cells": [
  {
   "cell_type": "markdown",
   "metadata": {},
   "source": [
    "In this exercise, suppose you are a data scientist working for a city's government. They are interested in boosting levels of cycling, and want to make sure enough bikes are available for the public at any given time. You have been tasked with building a neural network model to predict the total number of bike rentals in the city, based on historical data. We have provided you with data recorded at the hour-level, which includes variables such as the weather, temperature, and time of day.\n",
    "\n",
    "Your model should be designed to predict the total number of city bike rentals, on an hourly basis (i.e. each observation in the test/train data is the total number of bikes being rented for a given hour). You should therefore focus on predicting the variable 'cnt' -- which is the total count of rentals.\n",
    "\n",
    "Further information on this dataset, including variable descriptions, can be found on the UCI Machine Learning Repository here (https://archive.ics.uci.edu/dataset/275/bike+sharing+dataset). You should read this description carefully, and be mindful of your choice of variables etc.\n",
    "\n",
    "We have separated out a random test set from this data. Your goal is to train as predictive a model as possible using the provided formative_train.csv file. Once you are happy with your model, you should then predict the values for the formative_test.csv file. Note this file does not contain values for the outcome of interest.\n",
    "\n",
    "Specifically, you should:\n",
    "\n",
    "Define a neural network model class called my475_mod that is capable of taking in data, passing it through a neural network, and outputting a prediction.\n",
    "You may rely on functions outside this class definition to help you build/train the model\n",
    "Train an instance of that model on the provided training data and save your final trained model checkpoint to a file (this file should be named \"<CANDIDATE_NUMER>.pt\")\n",
    "Pass our test data--formative_test.csv--through your trained model and save the predictions as a .csv file. The file should contain a single column of predictions, with each row corresponding to a row in the test data. The first row should contain the header \"prediction\". Save this file as \"<CANDIDATE_NUMER>.csv\"\n",
    "We will assess both the quality of your code (i.e. the legibility of your definitions, the soundness of the architecture etc.) and the performance of your model on the test set."
   ]
  },
  {
   "cell_type": "code",
   "execution_count": null,
   "metadata": {},
   "outputs": [],
   "source": [
    "import torch\n",
    "import torch.nn as nn\n",
    "import torch.optim as optim\n",
    "\n",
    "class My475Mod(nn.Module):\n",
    "    def __init__(self, input_size, hidden_size, output_size):\n",
    "        super(My475Mod, self).__init__()\n",
    "        self.fc1 = nn.Linear(input_size, hidden_size)\n",
    "        self.relu = nn.ReLU()\n",
    "        self.fc2 = nn.Linear(hidden_size, output_size)\n",
    "\n",
    "    def forward(self, x):\n",
    "        x = self.relu(self.fc1(x))\n",
    "        x = self.fc2(x)\n",
    "        return x\n",
    "\n",
    "# Example training function\n",
    "def train_model(model, train_loader, criterion, optimizer, epochs=5):\n",
    "    for epoch in range(epochs):\n",
    "        for data, target in train_loader:\n",
    "            optimizer.zero_grad()\n",
    "            output = model(data)\n",
    "            loss = criterion(output, target)\n",
    "            loss.backward()\n",
    "            optimizer.step()\n",
    "\n",
    "# Save the model\n",
    "torch.save(model.state_dict(), \"model_checkpoint.pt\")"
   ]
  }
 ],
 "metadata": {
  "kernelspec": {
   "display_name": "base",
   "language": "python",
   "name": "python3"
  },
  "language_info": {
   "name": "python",
   "version": "3.12.4"
  }
 },
 "nbformat": 4,
 "nbformat_minor": 2
}
